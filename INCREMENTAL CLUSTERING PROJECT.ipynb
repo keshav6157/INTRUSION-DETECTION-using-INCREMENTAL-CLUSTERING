{
 "cells": [
  {
   "cell_type": "code",
   "execution_count": 9,
   "id": "efficient-ordinance",
   "metadata": {},
   "outputs": [],
   "source": [
    "import numpy as np\n",
    "import matplotlib.image as mpimg\n",
    "import matplotlib.pyplot as plt\n",
    "import cv2\n",
    "import os\n",
    "import sys"
   ]
  },
  {
   "cell_type": "code",
   "execution_count": 10,
   "id": "progressive-basement",
   "metadata": {},
   "outputs": [],
   "source": [
    "# func to initialize mean and variance images\n",
    "def initBackground(initImage):\n",
    "    img_arr = mpimg.imread(initImage)\n",
    "    mean = img_arr\n",
    "    variance = 9*np.ones(img_arr.shape)\n",
    "    return (mean, variance)"
   ]
  },
  {
   "cell_type": "code",
   "execution_count": 11,
   "id": "continued-cleaning",
   "metadata": {},
   "outputs": [],
   "source": [
    "# classify images into foreground and background pixels using chebyshev inequality\n",
    "def ForegroundDetection(img_file, mean, variance, lmda):\n",
    "    img = cv2.imread(img_file)\n",
    "    d = img-mean\n",
    "    y = variance*(lmda**2)\n",
    "    d_2 = np.square(d)\n",
    "    I = d_2-y\n",
    "    \n",
    "    mask = np.all(I>0, axis = 2)\n",
    "    rI = 255*mask.astype(int)\n",
    "    rI = rI.astype(np.uint8)\n",
    "    return (rI)"
   ]
  },
  {
   "cell_type": "code",
   "execution_count": 12,
   "id": "mediterranean-short",
   "metadata": {},
   "outputs": [],
   "source": [
    "# reduce the image noise using voting scheme\n",
    "def voting(rI, eta, m, n):\n",
    "    r, c = rI.shape\n",
    "    cI = np.zeros((rI.shape[0], rI.shape[1]))\n",
    "    \n",
    "    for i in range(m, r-1-m):\n",
    "        for j in range(n, c-1-n):\n",
    "            img_patch = rI[i-m:i, j-n:j]\n",
    "            y_unq, counts = np.unique(img_patch, return_counts = True)\n",
    "            if len(coubts) == 1 & y_unq[0] == 1:\n",
    "                cI[i, j] = 255\n",
    "            if len(counts)>1:\n",
    "                if counts[1]>eta*m*n:\n",
    "                    cI[i, j] = 255\n",
    "    cI = cI.astype(np.uint8)\n",
    "    return cI"
   ]
  },
  {
   "cell_type": "code",
   "execution_count": 13,
   "id": "fourth-destruction",
   "metadata": {},
   "outputs": [],
   "source": [
    "# update mean and variance images using weighted average scheme\n",
    "def MeanVarUpdate(cI, img_path, M, V, alpha):\n",
    "    img = mpimg.imread(img_path)\n",
    "    mean_upd = np.zeros(img.shape)\n",
    "    var_upd = np.zeros(img.shape)\n",
    "    d = img-M\n",
    "    d_2 = np.square(d)\n",
    "    \n",
    "    for i in range(cI.shape[0]):\n",
    "        for j in range(cI.shape[1]):\n",
    "            if cI[i, j] == 0:\n",
    "                mean_upd[i, j, :] = (1-alpha)*M[i, j, :]+ alpha*img[i, j, :]\n",
    "                var_upd[i, j, :] = (1-alpha)*(V[i, j, :] + alpha*d_2[i, j, :])\n",
    "                var_upd[i, j, :] = np.clip(var_upd[i, j, :], a_min = 9, a_max = None)\n",
    "    return (mean_upd, var_upd)"
   ]
  },
  {
   "cell_type": "code",
   "execution_count": 14,
   "id": "inclusive-seminar",
   "metadata": {},
   "outputs": [],
   "source": [
    "def Background_substraction(immg_dir, lmda, eta, m, n, alpha):\n",
    "    img_file_name = os.listdir(img_dir)\n",
    "    initImage = os.path.join(img_dir, img_file_name[0])\n",
    "    mean, variance = initBackground(initImage)\n",
    "    \n",
    "    for i in range(1, 19):\n",
    "        img_path = os.path.join(img_dir, img_file_name[i])\n",
    "        fig, ax = plt.subplots(1, 3, figsize=(10,10))\n",
    "        \n",
    "        rI = ForegroundDetection(img_path, mean, variance, lmda)\n",
    "        ax[0].imshow(rI, cmap = \"gray\")\n",
    "        \n",
    "        cI = voting(rI, eta, m, n)\n",
    "        mean, variance = MeanVarUpdate(cI, img_path, mean, variance, alpha)\n",
    "        ax[1].imshow(cI, cmap = \"gray\")\n",
    "        \n",
    "        img = cv2.imread(img_path)\n",
    "        ax[2].imshow(img, cmap = \"gray\")\n",
    "        \n",
    "        plt.show()\n",
    "    return (mean, variance)"
   ]
  },
  {
   "cell_type": "code",
   "execution_count": null,
   "id": "dirty-pollution",
   "metadata": {},
   "outputs": [],
   "source": [
    "mean, variance = Background_substraction(\"./Images\", 0.8, 0.7, 8, 8, 0.8)"
   ]
  }
 ],
 "metadata": {
  "kernelspec": {
   "display_name": "Python 3",
   "language": "python",
   "name": "python3"
  },
  "language_info": {
   "codemirror_mode": {
    "name": "ipython",
    "version": 3
   },
   "file_extension": ".py",
   "mimetype": "text/x-python",
   "name": "python",
   "nbconvert_exporter": "python",
   "pygments_lexer": "ipython3",
   "version": "3.7.4"
  }
 },
 "nbformat": 4,
 "nbformat_minor": 5
}
